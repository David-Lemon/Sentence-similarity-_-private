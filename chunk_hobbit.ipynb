{
 "cells": [
  {
   "cell_type": "code",
   "execution_count": null,
   "id": "d1745f13",
   "metadata": {},
   "outputs": [],
   "source": [
    "import string\n",
    "import pandas as pd\n",
    "import os"
   ]
  },
  {
   "cell_type": "code",
   "execution_count": null,
   "id": "75e42b5a",
   "metadata": {},
   "outputs": [],
   "source": [
    "# define the input file path\n",
    "input_file_path = \"hobbit.txt\"\n",
    "\n",
    "# define the output directory path\n",
    "output_dir_path = \"Hobbit_chunked\"\n",
    "\n",
    "# create the output directory if it does not exist\n",
    "if not os.path.exists(output_dir_path):\n",
    "    os.mkdir(output_dir_path)"
   ]
  },
  {
   "cell_type": "code",
   "execution_count": null,
   "id": "8b37f1eb",
   "metadata": {},
   "outputs": [],
   "source": [
    "# define a function to clean the text\n",
    "def clean_text(text):\n",
    "    # remove punctuation\n",
    "    text = text.translate(str.maketrans(\"\", \"\", string.punctuation))\n",
    "    # lower case\n",
    "    text = text.lower()\n",
    "    # remove new lines and line breaks\n",
    "    text = text.replace(\"\\n\", \" \").replace(\"\\r\", \"\")\n",
    "    return text"
   ]
  },
  {
   "cell_type": "code",
   "execution_count": null,
   "id": "d9faff5a",
   "metadata": {},
   "outputs": [],
   "source": [
    "# define the default chunk size\n",
    "default_chunk_size = 50\n",
    "default_overlap_size = 0"
   ]
  },
  {
   "cell_type": "code",
   "execution_count": null,
   "id": "e1d3a08a",
   "metadata": {},
   "outputs": [],
   "source": [
    "# define a function to divide the text into chunks and write them to files\n",
    "def divide_text_into_chunks(tokens, chunk_size=default_chunk_size, overlap_size=default_overlap_size):\n",
    "    # calculate the number of chunks\n",
    "    num_chunks = (len(tokens) - chunk_size) // (chunk_size - overlap_size) + 1\n",
    "    # create a data frame to store the chunks\n",
    "    data = pd.DataFrame(columns=[\"text\"])\n",
    "    # iterate over the chunks\n",
    "    for i in range(num_chunks):\n",
    "        # get the chunk\n",
    "        start = i * (chunk_size - overlap_size)\n",
    "        end = start + chunk_size\n",
    "        chunk = tokens[start:end]\n",
    "        # create the file name\n",
    "        file_name = \"Hobbit_{:05d}.txt\".format(i+1)\n",
    "        # create the file path\n",
    "        file_path = os.path.join(output_dir_path, file_name)\n",
    "        # write the chunk to the file\n",
    "        with open(file_path, \"w\", encoding=\"utf-8\") as f:\n",
    "            f.write(\" \".join(chunk))\n",
    "        # add the chunk to the data frame\n",
    "        data.loc[file_name] = [\" \".join(chunk)]\n",
    "    return data"
   ]
  },
  {
   "cell_type": "code",
   "execution_count": null,
   "id": "6d9ff4c0",
   "metadata": {},
   "outputs": [],
   "source": [
    "# read the input file\n",
    "with open(input_file_path, \"r\", encoding=\"utf-8\") as f:\n",
    "    text = f.read()\n",
    "\n",
    "# clean the text\n",
    "text = clean_text(text)\n",
    "\n",
    "# tokenize the text\n",
    "tokens = text.split()"
   ]
  },
  {
   "cell_type": "code",
   "execution_count": null,
   "id": "eed5726c",
   "metadata": {},
   "outputs": [],
   "source": [
    "# divide the text into chunks and write them to files\n",
    "data = divide_text_into_chunks(tokens)\n",
    "\n",
    "# print the data frame\n",
    "print(data)"
   ]
  },
  {
   "cell_type": "code",
   "execution_count": null,
   "id": "964d2276",
   "metadata": {},
   "outputs": [],
   "source": [
    "# save the data frame to a CSV file\n",
    "csv_file_path = \"hobbit_chunked.csv\"\n",
    "data.to_csv(csv_file_path)"
   ]
  },
  {
   "cell_type": "code",
   "execution_count": null,
   "id": "40341ee1",
   "metadata": {},
   "outputs": [],
   "source": []
  }
 ],
 "metadata": {
  "kernelspec": {
   "display_name": "Python 3 (ipykernel)",
   "language": "python",
   "name": "python3"
  },
  "language_info": {
   "codemirror_mode": {
    "name": "ipython",
    "version": 3
   },
   "file_extension": ".py",
   "mimetype": "text/x-python",
   "name": "python",
   "nbconvert_exporter": "python",
   "pygments_lexer": "ipython3",
   "version": "3.9.16"
  }
 },
 "nbformat": 4,
 "nbformat_minor": 5
}
