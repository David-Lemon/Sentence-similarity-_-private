{
 "cells": [
  {
   "cell_type": "code",
   "execution_count": 1,
   "id": "72af1d8b",
   "metadata": {},
   "outputs": [],
   "source": [
    "import pandas as pd\n",
    "import numpy as np\n",
    "pd.set_option('display.max_rows', 100)"
   ]
  },
  {
   "cell_type": "code",
   "execution_count": 2,
   "id": "1185f637",
   "metadata": {},
   "outputs": [],
   "source": [
    "import plotly.express as px\n",
    "import plotly.graph_objects as go\n",
    "import matplotlib.pyplot as plt\n",
    "import plotly.io as pio\n",
    "pio.renderers.default='iframe'"
   ]
  },
  {
   "cell_type": "code",
   "execution_count": 3,
   "id": "ec4df41a",
   "metadata": {},
   "outputs": [],
   "source": [
    "from bertopic import BERTopic"
   ]
  },
  {
   "cell_type": "code",
   "execution_count": 4,
   "id": "e08d3035",
   "metadata": {},
   "outputs": [],
   "source": [
    "from bertopic.vectorizers import ClassTfidfTransformer"
   ]
  },
  {
   "cell_type": "code",
   "execution_count": 37,
   "id": "587633e8",
   "metadata": {},
   "outputs": [],
   "source": [
    "import os"
   ]
  },
  {
   "cell_type": "code",
   "execution_count": 38,
   "id": "a0386b64",
   "metadata": {},
   "outputs": [
    {
     "data": {
      "text/plain": [
       "'/Users/tim_home/Dropbox/My Documents/Projects/Hobbit_test/hobbit_code'"
      ]
     },
     "execution_count": 38,
     "metadata": {},
     "output_type": "execute_result"
    }
   ],
   "source": [
    "pwd"
   ]
  },
  {
   "cell_type": "code",
   "execution_count": 7,
   "id": "a1a9b2de",
   "metadata": {},
   "outputs": [],
   "source": [
    "# use this code if you have not created a csv file from the chunking step -- uncomment the lines below by selecting them and typing command /\n",
    "# import csv\n",
    "\n",
    "# # set the path to the directory containing the txt files\n",
    "# dir_path = '/Users/tim_home/Dropbox/My Documents/Projects/Hobbit_test/Hobbit_chunked'\n",
    "\n",
    "# # create a new csv file\n",
    "# with open('hobbit_chunked.csv', mode='w', newline='') as output_file:\n",
    "#     # create a csv writer object\n",
    "#     output_writer = csv.writer(output_file, delimiter=',', quotechar='\"', quoting=csv.QUOTE_MINIMAL)\n",
    "    \n",
    "#     # write the header row\n",
    "#     output_writer.writerow(['chunk_num', 'text'])\n",
    "    \n",
    "#     # loop through the txt files in the directory\n",
    "#     for filename in os.listdir(dir_path):\n",
    "#         if filename.endswith('.txt'):\n",
    "#             # open the file and read the content\n",
    "#             with open(os.path.join(dir_path, filename), mode='r') as txt_file:\n",
    "#                 content = txt_file.read()\n",
    "            \n",
    "#             # remove the '.txt' extension from the filename\n",
    "#             filename = filename[:-4]\n",
    "            \n",
    "#             # write the filename and content to the csv file\n",
    "#             output_writer.writerow([filename, content])\n"
   ]
  },
  {
   "cell_type": "code",
   "execution_count": 8,
   "id": "7048299a",
   "metadata": {},
   "outputs": [],
   "source": [
    "import hdbscan\n",
    "import plotly.express as px\n",
    "import plotly.graph_objects as go\n",
    "import matplotlib.pyplot as plt\n",
    "# import networkx as nx\n",
    "# from networkx.algorithms import bipartite\n",
    "# from networkx.readwrite import graphml\n"
   ]
  },
  {
   "cell_type": "code",
   "execution_count": 39,
   "id": "303bd65f",
   "metadata": {},
   "outputs": [
    {
     "data": {
      "text/html": [
       "<div>\n",
       "<style scoped>\n",
       "    .dataframe tbody tr th:only-of-type {\n",
       "        vertical-align: middle;\n",
       "    }\n",
       "\n",
       "    .dataframe tbody tr th {\n",
       "        vertical-align: top;\n",
       "    }\n",
       "\n",
       "    .dataframe thead th {\n",
       "        text-align: right;\n",
       "    }\n",
       "</style>\n",
       "<table border=\"1\" class=\"dataframe\">\n",
       "  <thead>\n",
       "    <tr style=\"text-align: right;\">\n",
       "      <th></th>\n",
       "      <th>chunk_num</th>\n",
       "      <th>text</th>\n",
       "    </tr>\n",
       "  </thead>\n",
       "  <tbody>\n",
       "    <tr>\n",
       "      <th>0</th>\n",
       "      <td>hobbit_1125</td>\n",
       "      <td>but now that the goblins were crushed it seeme...</td>\n",
       "    </tr>\n",
       "    <tr>\n",
       "      <th>1</th>\n",
       "      <td>hobbit_0549</td>\n",
       "      <td>said bombur its somebody elses turn today you ...</td>\n",
       "    </tr>\n",
       "    <tr>\n",
       "      <th>2</th>\n",
       "      <td>hobbit_1131</td>\n",
       "      <td>in high summer at last they came up the long r...</td>\n",
       "    </tr>\n",
       "    <tr>\n",
       "      <th>3</th>\n",
       "      <td>hobbit_0207</td>\n",
       "      <td>things were blue and faint bilbo knew there la...</td>\n",
       "    </tr>\n",
       "    <tr>\n",
       "      <th>4</th>\n",
       "      <td>hobbit_1119</td>\n",
       "      <td>his followers and friends freely to the elvenk...</td>\n",
       "    </tr>\n",
       "  </tbody>\n",
       "</table>\n",
       "</div>"
      ],
      "text/plain": [
       "     chunk_num                                               text\n",
       "0  hobbit_1125  but now that the goblins were crushed it seeme...\n",
       "1  hobbit_0549  said bombur its somebody elses turn today you ...\n",
       "2  hobbit_1131  in high summer at last they came up the long r...\n",
       "3  hobbit_0207  things were blue and faint bilbo knew there la...\n",
       "4  hobbit_1119  his followers and friends freely to the elvenk..."
      ]
     },
     "execution_count": 39,
     "metadata": {},
     "output_type": "execute_result"
    }
   ],
   "source": [
    "hobbit_df = pd.read_csv('../hobbit_chunked.csv')\n",
    "hobbit_df.head()"
   ]
  },
  {
   "cell_type": "code",
   "execution_count": 10,
   "id": "df06f30c",
   "metadata": {},
   "outputs": [],
   "source": [
    "# def topic_modeling(text, top_n_words=None, language='English'):\n",
    "#    if top_n_words is None: \n",
    "#        topic_model = BERTopic(calculate_probabilities=True)\n",
    "#    else: \n",
    "#        topic_model = BERTopic(calculate_probabilities=True, top_n_words=top_n_words)\n",
    "#    if language != 'English':\n",
    "#        topic_model = BERTopic(language='multilingual', calculate_probabilities=True)\n",
    "#    topics, probabilities = topic_model.fit_transform(list(text))\n",
    "#    topic_info = topic_model.get_topic_info()\n",
    "#    text_topics = topic_model.get_topics()\n",
    "#    return topics, probabilities, topic_model, topic_info, text_topics"
   ]
  },
  {
   "cell_type": "code",
   "execution_count": 11,
   "id": "2b56d7d4",
   "metadata": {},
   "outputs": [
    {
     "data": {
      "text/plain": [
       "0    but now that the goblins were crushed it seeme...\n",
       "1    said bombur its somebody elses turn today you ...\n",
       "2    in high summer at last they came up the long r...\n",
       "3    things were blue and faint bilbo knew there la...\n",
       "4    his followers and friends freely to the elvenk...\n",
       "Name: text, dtype: object"
      ]
     },
     "execution_count": 11,
     "metadata": {},
     "output_type": "execute_result"
    }
   ],
   "source": [
    "docs = hobbit_df['text']\n",
    "docs.head()"
   ]
  },
  {
   "cell_type": "code",
   "execution_count": 12,
   "id": "8123bbb7",
   "metadata": {},
   "outputs": [],
   "source": [
    "ctfidf_model = ClassTfidfTransformer(reduce_frequent_words=True)"
   ]
  },
  {
   "cell_type": "code",
   "execution_count": 13,
   "id": "65d8c867",
   "metadata": {
    "scrolled": true
   },
   "outputs": [
    {
     "data": {
      "application/vnd.jupyter.widget-view+json": {
       "model_id": "263859d11c2d4d5da15f3223361c5be2",
       "version_major": 2,
       "version_minor": 0
      },
      "text/plain": [
       "Batches:   0%|          | 0/37 [00:00<?, ?it/s]"
      ]
     },
     "metadata": {},
     "output_type": "display_data"
    },
    {
     "name": "stderr",
     "output_type": "stream",
     "text": [
      "2023-05-16 14:28:38,082 - BERTopic - Reduced dimensionality\n",
      "2023-05-16 14:28:38,202 - BERTopic - Clustered reduced embeddings\n"
     ]
    }
   ],
   "source": [
    "from umap import UMAP\n",
    "from sentence_transformers import SentenceTransformer\n",
    "sentence_model = SentenceTransformer(\"all-MiniLM-L6-v2\")\n",
    "embeddings = sentence_model.encode(docs, show_progress_bar=True)\n",
    "hobbit_topic_model = BERTopic(language='english', calculate_probabilities=True, embedding_model=\"all-MiniLM-L6-v2\", top_n_words=10, min_topic_size=5, ctfidf_model=ctfidf_model, verbose=True)\n",
    "topics, probs = hobbit_topic_model.fit_transform(docs, embeddings)"
   ]
  },
  {
   "cell_type": "code",
   "execution_count": 14,
   "id": "3d086cae",
   "metadata": {},
   "outputs": [
    {
     "data": {
      "text/html": [
       "<div>\n",
       "<style scoped>\n",
       "    .dataframe tbody tr th:only-of-type {\n",
       "        vertical-align: middle;\n",
       "    }\n",
       "\n",
       "    .dataframe tbody tr th {\n",
       "        vertical-align: top;\n",
       "    }\n",
       "\n",
       "    .dataframe thead th {\n",
       "        text-align: right;\n",
       "    }\n",
       "</style>\n",
       "<table border=\"1\" class=\"dataframe\">\n",
       "  <thead>\n",
       "    <tr style=\"text-align: right;\">\n",
       "      <th></th>\n",
       "      <th>Topic</th>\n",
       "      <th>Count</th>\n",
       "      <th>Name</th>\n",
       "    </tr>\n",
       "  </thead>\n",
       "  <tbody>\n",
       "    <tr>\n",
       "      <th>0</th>\n",
       "      <td>-1</td>\n",
       "      <td>417</td>\n",
       "      <td>-1_are_dwarves_were_if</td>\n",
       "    </tr>\n",
       "    <tr>\n",
       "      <th>1</th>\n",
       "      <td>0</td>\n",
       "      <td>60</td>\n",
       "      <td>0_gollum_precious_yes_pocketses</td>\n",
       "    </tr>\n",
       "    <tr>\n",
       "      <th>2</th>\n",
       "      <td>1</td>\n",
       "      <td>42</td>\n",
       "      <td>1_goblins_goblin_lad_ho</td>\n",
       "    </tr>\n",
       "    <tr>\n",
       "      <th>3</th>\n",
       "      <td>2</td>\n",
       "      <td>35</td>\n",
       "      <td>2_dragon_smaug_arrow_thunderstorm</td>\n",
       "    </tr>\n",
       "    <tr>\n",
       "      <th>4</th>\n",
       "      <td>3</td>\n",
       "      <td>32</td>\n",
       "      <td>3_hobbit_tunnel_hobbits_counted</td>\n",
       "    </tr>\n",
       "    <tr>\n",
       "      <th>5</th>\n",
       "      <td>4</td>\n",
       "      <td>28</td>\n",
       "      <td>4_spider_spiders_attercop_branch</td>\n",
       "    </tr>\n",
       "    <tr>\n",
       "      <th>6</th>\n",
       "      <td>5</td>\n",
       "      <td>27</td>\n",
       "      <td>5_gandalf_horse_sending_road</td>\n",
       "    </tr>\n",
       "    <tr>\n",
       "      <th>7</th>\n",
       "      <td>6</td>\n",
       "      <td>26</td>\n",
       "      <td>6_gandalf_cake_just_frontdoor</td>\n",
       "    </tr>\n",
       "    <tr>\n",
       "      <th>8</th>\n",
       "      <td>7</td>\n",
       "      <td>25</td>\n",
       "      <td>7_thorin_stairs_fuss_merrymaking</td>\n",
       "    </tr>\n",
       "    <tr>\n",
       "      <th>9</th>\n",
       "      <td>8</td>\n",
       "      <td>23</td>\n",
       "      <td>8_baggins_mr_remarkable_her</td>\n",
       "    </tr>\n",
       "    <tr>\n",
       "      <th>10</th>\n",
       "      <td>9</td>\n",
       "      <td>22</td>\n",
       "      <td>9_bard_master_king_girion</td>\n",
       "    </tr>\n",
       "    <tr>\n",
       "      <th>11</th>\n",
       "      <td>10</td>\n",
       "      <td>22</td>\n",
       "      <td>10_arkenstone_treasure_gold_coat</td>\n",
       "    </tr>\n",
       "    <tr>\n",
       "      <th>12</th>\n",
       "      <td>11</td>\n",
       "      <td>21</td>\n",
       "      <td>11_bert_william_yer_tom</td>\n",
       "    </tr>\n",
       "    <tr>\n",
       "      <th>13</th>\n",
       "      <td>12</td>\n",
       "      <td>21</td>\n",
       "      <td>12_boat_rope_hook_fili</td>\n",
       "    </tr>\n",
       "    <tr>\n",
       "      <th>14</th>\n",
       "      <td>13</td>\n",
       "      <td>20</td>\n",
       "      <td>13_eagles_eagle_lord_birds</td>\n",
       "    </tr>\n",
       "    <tr>\n",
       "      <th>15</th>\n",
       "      <td>14</td>\n",
       "      <td>19</td>\n",
       "      <td>14_bears_leaves_twilight_treetrunks</td>\n",
       "    </tr>\n",
       "    <tr>\n",
       "      <th>16</th>\n",
       "      <td>15</td>\n",
       "      <td>18</td>\n",
       "      <td>15_goblins_sword_yes_durstnt</td>\n",
       "    </tr>\n",
       "    <tr>\n",
       "      <th>17</th>\n",
       "      <td>16</td>\n",
       "      <td>17</td>\n",
       "      <td>16_river_watergate_stream_bank</td>\n",
       "    </tr>\n",
       "    <tr>\n",
       "      <th>18</th>\n",
       "      <td>17</td>\n",
       "      <td>16</td>\n",
       "      <td>17_explain_happens_lamp_four</td>\n",
       "    </tr>\n",
       "    <tr>\n",
       "      <th>19</th>\n",
       "      <td>18</td>\n",
       "      <td>16</td>\n",
       "      <td>18_dream_sleep_wake_felt</td>\n",
       "    </tr>\n",
       "    <tr>\n",
       "      <th>20</th>\n",
       "      <td>19</td>\n",
       "      <td>15</td>\n",
       "      <td>19_wolves_flames_fire_sparks</td>\n",
       "    </tr>\n",
       "    <tr>\n",
       "      <th>21</th>\n",
       "      <td>20</td>\n",
       "      <td>15</td>\n",
       "      <td>20_precise_er_dragongold_give</td>\n",
       "    </tr>\n",
       "    <tr>\n",
       "      <th>22</th>\n",
       "      <td>21</td>\n",
       "      <td>14</td>\n",
       "      <td>21_smaug_doze_riddling_lucky</td>\n",
       "    </tr>\n",
       "    <tr>\n",
       "      <th>23</th>\n",
       "      <td>22</td>\n",
       "      <td>14</td>\n",
       "      <td>22_people_wise_killing_dwarves</td>\n",
       "    </tr>\n",
       "    <tr>\n",
       "      <th>24</th>\n",
       "      <td>23</td>\n",
       "      <td>14</td>\n",
       "      <td>23_light_redder_bottom_gleam</td>\n",
       "    </tr>\n",
       "    <tr>\n",
       "      <th>25</th>\n",
       "      <td>24</td>\n",
       "      <td>13</td>\n",
       "      <td>24_troop_possibly_goblins_goblin</td>\n",
       "    </tr>\n",
       "    <tr>\n",
       "      <th>26</th>\n",
       "      <td>25</td>\n",
       "      <td>13</td>\n",
       "      <td>25_slope_below_rock_valleys</td>\n",
       "    </tr>\n",
       "    <tr>\n",
       "      <th>27</th>\n",
       "      <td>26</td>\n",
       "      <td>13</td>\n",
       "      <td>26_ponies_ha_stores_frowning</td>\n",
       "    </tr>\n",
       "    <tr>\n",
       "      <th>28</th>\n",
       "      <td>27</td>\n",
       "      <td>13</td>\n",
       "      <td>27_torches_thirst_warnings_drip</td>\n",
       "    </tr>\n",
       "    <tr>\n",
       "      <th>29</th>\n",
       "      <td>28</td>\n",
       "      <td>11</td>\n",
       "      <td>28_mountain_lives_south_spur</td>\n",
       "    </tr>\n",
       "    <tr>\n",
       "      <th>30</th>\n",
       "      <td>29</td>\n",
       "      <td>10</td>\n",
       "      <td>29_cloud_winds_flight_country</td>\n",
       "    </tr>\n",
       "    <tr>\n",
       "      <th>31</th>\n",
       "      <td>30</td>\n",
       "      <td>10</td>\n",
       "      <td>30_elfking_fools_depart_bard</td>\n",
       "    </tr>\n",
       "    <tr>\n",
       "      <th>32</th>\n",
       "      <td>31</td>\n",
       "      <td>9</td>\n",
       "      <td>31_king_songs_legend_thror</td>\n",
       "    </tr>\n",
       "    <tr>\n",
       "      <th>33</th>\n",
       "      <td>32</td>\n",
       "      <td>8</td>\n",
       "      <td>32_dragons_tunnel_theres_gloated</td>\n",
       "    </tr>\n",
       "    <tr>\n",
       "      <th>34</th>\n",
       "      <td>33</td>\n",
       "      <td>8</td>\n",
       "      <td>33_thrush_bird_carc_breed</td>\n",
       "    </tr>\n",
       "    <tr>\n",
       "      <th>35</th>\n",
       "      <td>34</td>\n",
       "      <td>8</td>\n",
       "      <td>34_aback_observed_express_farmer</td>\n",
       "    </tr>\n",
       "    <tr>\n",
       "      <th>36</th>\n",
       "      <td>35</td>\n",
       "      <td>8</td>\n",
       "      <td>35_depends_grateful_rid_glad</td>\n",
       "    </tr>\n",
       "    <tr>\n",
       "      <th>37</th>\n",
       "      <td>36</td>\n",
       "      <td>7</td>\n",
       "      <td>36_names_swords_hoods_hood</td>\n",
       "    </tr>\n",
       "    <tr>\n",
       "      <th>38</th>\n",
       "      <td>37</td>\n",
       "      <td>7</td>\n",
       "      <td>37_burglars_burglar_burgling_trunk</td>\n",
       "    </tr>\n",
       "    <tr>\n",
       "      <th>39</th>\n",
       "      <td>38</td>\n",
       "      <td>7</td>\n",
       "      <td>38_pots_coins_theyre_ale</td>\n",
       "    </tr>\n",
       "    <tr>\n",
       "      <th>40</th>\n",
       "      <td>39</td>\n",
       "      <td>7</td>\n",
       "      <td>39_send_plight_miles_advice</td>\n",
       "    </tr>\n",
       "    <tr>\n",
       "      <th>41</th>\n",
       "      <td>40</td>\n",
       "      <td>7</td>\n",
       "      <td>40_elrond_midsummers_banner_cure</td>\n",
       "    </tr>\n",
       "    <tr>\n",
       "      <th>42</th>\n",
       "      <td>41</td>\n",
       "      <td>6</td>\n",
       "      <td>41_apples_breathe_trays_straw</td>\n",
       "    </tr>\n",
       "    <tr>\n",
       "      <th>43</th>\n",
       "      <td>42</td>\n",
       "      <td>6</td>\n",
       "      <td>42_familiar_impatient_agreed_important</td>\n",
       "    </tr>\n",
       "    <tr>\n",
       "      <th>44</th>\n",
       "      <td>43</td>\n",
       "      <td>6</td>\n",
       "      <td>43_drove_treetops_overpowered_desperately</td>\n",
       "    </tr>\n",
       "    <tr>\n",
       "      <th>45</th>\n",
       "      <td>44</td>\n",
       "      <td>6</td>\n",
       "      <td>44_mirkwood_nuts_north_carrock</td>\n",
       "    </tr>\n",
       "  </tbody>\n",
       "</table>\n",
       "</div>"
      ],
      "text/plain": [
       "    Topic  Count                                       Name\n",
       "0      -1    417                     -1_are_dwarves_were_if\n",
       "1       0     60            0_gollum_precious_yes_pocketses\n",
       "2       1     42                    1_goblins_goblin_lad_ho\n",
       "3       2     35          2_dragon_smaug_arrow_thunderstorm\n",
       "4       3     32            3_hobbit_tunnel_hobbits_counted\n",
       "5       4     28           4_spider_spiders_attercop_branch\n",
       "6       5     27               5_gandalf_horse_sending_road\n",
       "7       6     26              6_gandalf_cake_just_frontdoor\n",
       "8       7     25           7_thorin_stairs_fuss_merrymaking\n",
       "9       8     23                8_baggins_mr_remarkable_her\n",
       "10      9     22                  9_bard_master_king_girion\n",
       "11     10     22           10_arkenstone_treasure_gold_coat\n",
       "12     11     21                    11_bert_william_yer_tom\n",
       "13     12     21                     12_boat_rope_hook_fili\n",
       "14     13     20                 13_eagles_eagle_lord_birds\n",
       "15     14     19        14_bears_leaves_twilight_treetrunks\n",
       "16     15     18               15_goblins_sword_yes_durstnt\n",
       "17     16     17             16_river_watergate_stream_bank\n",
       "18     17     16               17_explain_happens_lamp_four\n",
       "19     18     16                   18_dream_sleep_wake_felt\n",
       "20     19     15               19_wolves_flames_fire_sparks\n",
       "21     20     15              20_precise_er_dragongold_give\n",
       "22     21     14               21_smaug_doze_riddling_lucky\n",
       "23     22     14             22_people_wise_killing_dwarves\n",
       "24     23     14               23_light_redder_bottom_gleam\n",
       "25     24     13           24_troop_possibly_goblins_goblin\n",
       "26     25     13                25_slope_below_rock_valleys\n",
       "27     26     13               26_ponies_ha_stores_frowning\n",
       "28     27     13            27_torches_thirst_warnings_drip\n",
       "29     28     11               28_mountain_lives_south_spur\n",
       "30     29     10              29_cloud_winds_flight_country\n",
       "31     30     10               30_elfking_fools_depart_bard\n",
       "32     31      9                 31_king_songs_legend_thror\n",
       "33     32      8           32_dragons_tunnel_theres_gloated\n",
       "34     33      8                  33_thrush_bird_carc_breed\n",
       "35     34      8           34_aback_observed_express_farmer\n",
       "36     35      8               35_depends_grateful_rid_glad\n",
       "37     36      7                 36_names_swords_hoods_hood\n",
       "38     37      7         37_burglars_burglar_burgling_trunk\n",
       "39     38      7                   38_pots_coins_theyre_ale\n",
       "40     39      7                39_send_plight_miles_advice\n",
       "41     40      7           40_elrond_midsummers_banner_cure\n",
       "42     41      6              41_apples_breathe_trays_straw\n",
       "43     42      6     42_familiar_impatient_agreed_important\n",
       "44     43      6  43_drove_treetops_overpowered_desperately\n",
       "45     44      6             44_mirkwood_nuts_north_carrock"
      ]
     },
     "execution_count": 14,
     "metadata": {},
     "output_type": "execute_result"
    }
   ],
   "source": [
    "hobbit_topic_model.get_topic_info()"
   ]
  },
  {
   "cell_type": "code",
   "execution_count": 15,
   "id": "6e81dfe1",
   "metadata": {},
   "outputs": [],
   "source": [
    "hobbit_topic_model.save('./hobbit_model2')"
   ]
  },
  {
   "cell_type": "code",
   "execution_count": 16,
   "id": "4e6f6fda",
   "metadata": {
    "scrolled": true
   },
   "outputs": [
    {
     "data": {
      "text/html": [
       "<div>\n",
       "<style scoped>\n",
       "    .dataframe tbody tr th:only-of-type {\n",
       "        vertical-align: middle;\n",
       "    }\n",
       "\n",
       "    .dataframe tbody tr th {\n",
       "        vertical-align: top;\n",
       "    }\n",
       "\n",
       "    .dataframe thead th {\n",
       "        text-align: right;\n",
       "    }\n",
       "</style>\n",
       "<table border=\"1\" class=\"dataframe\">\n",
       "  <thead>\n",
       "    <tr style=\"text-align: right;\">\n",
       "      <th></th>\n",
       "      <th>Document</th>\n",
       "      <th>Topic</th>\n",
       "      <th>Name</th>\n",
       "      <th>Top_n_words</th>\n",
       "      <th>Probability</th>\n",
       "      <th>Representative_document</th>\n",
       "    </tr>\n",
       "  </thead>\n",
       "  <tbody>\n",
       "    <tr>\n",
       "      <th>0</th>\n",
       "      <td>but now that the goblins were crushed it seeme...</td>\n",
       "      <td>-1</td>\n",
       "      <td>-1_are_dwarves_were_if</td>\n",
       "      <td>are - dwarves - were - if - you - long - thori...</td>\n",
       "      <td>0.600386</td>\n",
       "      <td>False</td>\n",
       "    </tr>\n",
       "    <tr>\n",
       "      <th>1</th>\n",
       "      <td>said bombur its somebody elses turn today you ...</td>\n",
       "      <td>12</td>\n",
       "      <td>12_boat_rope_hook_fili</td>\n",
       "      <td>boat - rope - hook - fili - bank - water - cur...</td>\n",
       "      <td>0.639935</td>\n",
       "      <td>True</td>\n",
       "    </tr>\n",
       "    <tr>\n",
       "      <th>2</th>\n",
       "      <td>in high summer at last they came up the long r...</td>\n",
       "      <td>-1</td>\n",
       "      <td>-1_are_dwarves_were_if</td>\n",
       "      <td>are - dwarves - were - if - you - long - thori...</td>\n",
       "      <td>0.513479</td>\n",
       "      <td>False</td>\n",
       "    </tr>\n",
       "    <tr>\n",
       "      <th>3</th>\n",
       "      <td>things were blue and faint bilbo knew there la...</td>\n",
       "      <td>29</td>\n",
       "      <td>29_cloud_winds_flight_country</td>\n",
       "      <td>cloud - winds - flight - country - boulders - ...</td>\n",
       "      <td>0.083535</td>\n",
       "      <td>True</td>\n",
       "    </tr>\n",
       "    <tr>\n",
       "      <th>4</th>\n",
       "      <td>his followers and friends freely to the elvenk...</td>\n",
       "      <td>10</td>\n",
       "      <td>10_arkenstone_treasure_gold_coat</td>\n",
       "      <td>arkenstone - treasure - gold - coat - claim - ...</td>\n",
       "      <td>1.000000</td>\n",
       "      <td>False</td>\n",
       "    </tr>\n",
       "    <tr>\n",
       "      <th>...</th>\n",
       "      <td>...</td>\n",
       "      <td>...</td>\n",
       "      <td>...</td>\n",
       "      <td>...</td>\n",
       "      <td>...</td>\n",
       "      <td>...</td>\n",
       "    </tr>\n",
       "    <tr>\n",
       "      <th>1157</th>\n",
       "      <td>as high as he could throw it since it did not ...</td>\n",
       "      <td>12</td>\n",
       "      <td>12_boat_rope_hook_fili</td>\n",
       "      <td>boat - rope - hook - fili - bank - water - cur...</td>\n",
       "      <td>1.000000</td>\n",
       "      <td>False</td>\n",
       "    </tr>\n",
       "    <tr>\n",
       "      <th>1158</th>\n",
       "      <td>goes down into the water dori is the strongest...</td>\n",
       "      <td>12</td>\n",
       "      <td>12_boat_rope_hook_fili</td>\n",
       "      <td>boat - rope - hook - fili - bank - water - cur...</td>\n",
       "      <td>0.373324</td>\n",
       "      <td>False</td>\n",
       "    </tr>\n",
       "    <tr>\n",
       "      <th>1159</th>\n",
       "      <td>impossible and so they dropped off to sleep on...</td>\n",
       "      <td>26</td>\n",
       "      <td>26_ponies_ha_stores_frowning</td>\n",
       "      <td>ponies - ha - stores - frowning - jolly - slee...</td>\n",
       "      <td>0.099961</td>\n",
       "      <td>False</td>\n",
       "    </tr>\n",
       "    <tr>\n",
       "      <th>1160</th>\n",
       "      <td>ori oin gloin fili kili bombur bifur bofur dwa...</td>\n",
       "      <td>-1</td>\n",
       "      <td>-1_are_dwarves_were_if</td>\n",
       "      <td>are - dwarves - were - if - you - long - thori...</td>\n",
       "      <td>0.120377</td>\n",
       "      <td>False</td>\n",
       "    </tr>\n",
       "    <tr>\n",
       "      <th>1161</th>\n",
       "      <td>time to slip on his ring he stumbled forward i...</td>\n",
       "      <td>3</td>\n",
       "      <td>3_hobbit_tunnel_hobbits_counted</td>\n",
       "      <td>hobbit - tunnel - hobbits - counted - ring - d...</td>\n",
       "      <td>0.474320</td>\n",
       "      <td>False</td>\n",
       "    </tr>\n",
       "  </tbody>\n",
       "</table>\n",
       "<p>1162 rows × 6 columns</p>\n",
       "</div>"
      ],
      "text/plain": [
       "                                               Document  Topic   \n",
       "0     but now that the goblins were crushed it seeme...     -1  \\\n",
       "1     said bombur its somebody elses turn today you ...     12   \n",
       "2     in high summer at last they came up the long r...     -1   \n",
       "3     things were blue and faint bilbo knew there la...     29   \n",
       "4     his followers and friends freely to the elvenk...     10   \n",
       "...                                                 ...    ...   \n",
       "1157  as high as he could throw it since it did not ...     12   \n",
       "1158  goes down into the water dori is the strongest...     12   \n",
       "1159  impossible and so they dropped off to sleep on...     26   \n",
       "1160  ori oin gloin fili kili bombur bifur bofur dwa...     -1   \n",
       "1161  time to slip on his ring he stumbled forward i...      3   \n",
       "\n",
       "                                  Name   \n",
       "0               -1_are_dwarves_were_if  \\\n",
       "1               12_boat_rope_hook_fili   \n",
       "2               -1_are_dwarves_were_if   \n",
       "3        29_cloud_winds_flight_country   \n",
       "4     10_arkenstone_treasure_gold_coat   \n",
       "...                                ...   \n",
       "1157            12_boat_rope_hook_fili   \n",
       "1158            12_boat_rope_hook_fili   \n",
       "1159      26_ponies_ha_stores_frowning   \n",
       "1160            -1_are_dwarves_were_if   \n",
       "1161   3_hobbit_tunnel_hobbits_counted   \n",
       "\n",
       "                                            Top_n_words  Probability   \n",
       "0     are - dwarves - were - if - you - long - thori...     0.600386  \\\n",
       "1     boat - rope - hook - fili - bank - water - cur...     0.639935   \n",
       "2     are - dwarves - were - if - you - long - thori...     0.513479   \n",
       "3     cloud - winds - flight - country - boulders - ...     0.083535   \n",
       "4     arkenstone - treasure - gold - coat - claim - ...     1.000000   \n",
       "...                                                 ...          ...   \n",
       "1157  boat - rope - hook - fili - bank - water - cur...     1.000000   \n",
       "1158  boat - rope - hook - fili - bank - water - cur...     0.373324   \n",
       "1159  ponies - ha - stores - frowning - jolly - slee...     0.099961   \n",
       "1160  are - dwarves - were - if - you - long - thori...     0.120377   \n",
       "1161  hobbit - tunnel - hobbits - counted - ring - d...     0.474320   \n",
       "\n",
       "      Representative_document  \n",
       "0                       False  \n",
       "1                        True  \n",
       "2                       False  \n",
       "3                        True  \n",
       "4                       False  \n",
       "...                       ...  \n",
       "1157                    False  \n",
       "1158                    False  \n",
       "1159                    False  \n",
       "1160                    False  \n",
       "1161                    False  \n",
       "\n",
       "[1162 rows x 6 columns]"
      ]
     },
     "execution_count": 16,
     "metadata": {},
     "output_type": "execute_result"
    }
   ],
   "source": [
    "hobbit_topic_model.get_document_info(docs)"
   ]
  },
  {
   "cell_type": "code",
   "execution_count": 17,
   "id": "b70febf2",
   "metadata": {},
   "outputs": [],
   "source": [
    "hobbit_doc_info_df = pd.DataFrame(hobbit_topic_model.get_document_info(docs))"
   ]
  },
  {
   "cell_type": "code",
   "execution_count": 18,
   "id": "8260b015",
   "metadata": {},
   "outputs": [],
   "source": [
    "hobbit_doc_info_df.to_csv('hobbit_docinfo.csv', index=True)"
   ]
  },
  {
   "cell_type": "code",
   "execution_count": 19,
   "id": "7a042723",
   "metadata": {},
   "outputs": [
    {
     "data": {
      "text/plain": [
       "[('people', 0.2625662533340537),\n",
       " ('wise', 0.2561369259365522),\n",
       " ('killing', 0.25224468620966006),\n",
       " ('dwarves', 0.24588998186542022),\n",
       " ('strong', 0.24357848603680748),\n",
       " ('elves', 0.24121661421932306),\n",
       " ('flows', 0.22616153219668564),\n",
       " ('elfcaves', 0.22616153219668564),\n",
       " ('peaceful', 0.22616153219668564),\n",
       " ('flexible', 0.22616153219668564)]"
      ]
     },
     "execution_count": 19,
     "metadata": {},
     "output_type": "execute_result"
    }
   ],
   "source": [
    "hobbit_topic_model.get_topic(22)"
   ]
  },
  {
   "cell_type": "code",
   "execution_count": 20,
   "id": "0cdeea88",
   "metadata": {},
   "outputs": [
    {
     "data": {
      "text/html": [
       "<iframe\n",
       "    scrolling=\"no\"\n",
       "    width=\"670px\"\n",
       "    height=\"670\"\n",
       "    src=\"iframe_figures/figure_20.html\"\n",
       "    frameborder=\"0\"\n",
       "    allowfullscreen\n",
       "></iframe>\n"
      ]
     },
     "metadata": {},
     "output_type": "display_data"
    }
   ],
   "source": [
    "hobbit_topic_model.visualize_topics()"
   ]
  },
  {
   "cell_type": "code",
   "execution_count": 21,
   "id": "431b7fc8",
   "metadata": {},
   "outputs": [
    {
     "data": {
      "text/html": [
       "<iframe\n",
       "    scrolling=\"no\"\n",
       "    width=\"1220px\"\n",
       "    height=\"770\"\n",
       "    src=\"iframe_figures/figure_21.html\"\n",
       "    frameborder=\"0\"\n",
       "    allowfullscreen\n",
       "></iframe>\n"
      ]
     },
     "metadata": {},
     "output_type": "display_data"
    }
   ],
   "source": [
    "reduced_embeddings = UMAP(n_neighbors=10, n_components=2, min_dist=0.0, metric='cosine').fit_transform(embeddings)\n",
    "fig = hobbit_topic_model.visualize_documents(docs, reduced_embeddings=reduced_embeddings)\n",
    "fig.show()"
   ]
  },
  {
   "cell_type": "code",
   "execution_count": 22,
   "id": "a524a3ff",
   "metadata": {},
   "outputs": [
    {
     "data": {
      "text/html": [
       "<iframe\n",
       "    scrolling=\"no\"\n",
       "    width=\"1020px\"\n",
       "    height=\"895\"\n",
       "    src=\"iframe_figures/figure_22.html\"\n",
       "    frameborder=\"0\"\n",
       "    allowfullscreen\n",
       "></iframe>\n"
      ]
     },
     "metadata": {},
     "output_type": "display_data"
    }
   ],
   "source": [
    "hobbit_topic_model.visualize_hierarchy()"
   ]
  },
  {
   "cell_type": "code",
   "execution_count": 23,
   "id": "ad3e9e2a",
   "metadata": {},
   "outputs": [
    {
     "name": "stderr",
     "output_type": "stream",
     "text": [
      "100%|███████████████████████████████████████████████████████████████████████| 44/44 [00:00<00:00, 350.86it/s]\n"
     ]
    }
   ],
   "source": [
    "hierarchical_topics = hobbit_topic_model.hierarchical_topics(docs)"
   ]
  },
  {
   "cell_type": "code",
   "execution_count": 24,
   "id": "74e6c17d",
   "metadata": {},
   "outputs": [
    {
     "data": {
      "text/html": [
       "<iframe\n",
       "    scrolling=\"no\"\n",
       "    width=\"1020px\"\n",
       "    height=\"895\"\n",
       "    src=\"iframe_figures/figure_24.html\"\n",
       "    frameborder=\"0\"\n",
       "    allowfullscreen\n",
       "></iframe>\n"
      ]
     },
     "metadata": {},
     "output_type": "display_data"
    }
   ],
   "source": [
    "hobbit_topic_model.visualize_hierarchy(hierarchical_topics=hierarchical_topics)"
   ]
  },
  {
   "cell_type": "code",
   "execution_count": 25,
   "id": "2ba19094",
   "metadata": {},
   "outputs": [
    {
     "name": "stdout",
     "output_type": "stream",
     "text": [
      ".\n",
      "├─trees_wolves_light_smoke_wide\n",
      "│    ├─wolves_trees_light_smoke_flames\n",
      "│    │    ├─■──wolves_flames_fire_sparks_smoke ── Topic: 19\n",
      "│    │    └─light_through_sun_leaves_trees\n",
      "│    │         ├─light_leaves_bears_grew_sun\n",
      "│    │         │    ├─■──light_redder_bottom_gleam_thrush ── Topic: 23\n",
      "│    │         │    └─■──bears_leaves_twilight_treetrunks_path ── Topic: 14\n",
      "│    │         └─■──cloud_winds_flight_country_boulders ── Topic: 29\n",
      "│    └─river_watergate_slope_stream_rock\n",
      "│         ├─■──slope_below_rock_valleys_disturbed ── Topic: 25\n",
      "│         └─■──river_watergate_stream_bank_road ── Topic: 16\n",
      "└─gollum_my_said_him_we\n",
      "     ├─gollum_bilbo_said_what_just\n",
      "     │    ├─gollum_bilbo_bert_just_ring\n",
      "     │    │    ├─pots_apples_smell_coins_breathe\n",
      "     │    │    │    ├─■──pots_coins_theyre_ale_em ── Topic: 38\n",
      "     │    │    │    └─■──apples_breathe_trays_straw_fili ── Topic: 41\n",
      "     │    │    └─gollum_bilbo_bert_ring_yes\n",
      "     │    │         ├─gollum_boat_precious_ring_spider\n",
      "     │    │         │    ├─spider_spiders_rope_boat_attercop\n",
      "     │    │         │    │    ├─■──boat_rope_hook_fili_bank ── Topic: 12\n",
      "     │    │         │    │    └─■──spider_spiders_attercop_branch_sting ── Topic: 4\n",
      "     │    │         │    └─gollum_precious_yes_ring_its\n",
      "     │    │         │         ├─gollum_precious_yes_its_fish\n",
      "     │    │         │         │    ├─■──goblins_sword_yes_durstnt_dells ── Topic: 15\n",
      "     │    │         │         │    └─■──gollum_precious_yes_pocketses_guess ── Topic: 0\n",
      "     │    │         │         └─hobbit_tunnel_hobbits_floor_ring\n",
      "     │    │         │              ├─■──dream_sleep_wake_felt_dreamed ── Topic: 18\n",
      "     │    │         │              └─■──hobbit_tunnel_hobbits_counted_ring ── Topic: 3\n",
      "     │    │         └─bert_william_tom_yer_gandalf\n",
      "     │    │              ├─bert_william_tom_yer_said\n",
      "     │    │              │    ├─bert_william_tom_yer_trolls\n",
      "     │    │              │    │    ├─■──bert_william_yer_tom_williams ── Topic: 11\n",
      "     │    │              │    │    └─■──gandalf_cake_just_frontdoor_man ── Topic: 6\n",
      "     │    │              │    └─■──explain_happens_lamp_four_sure ── Topic: 17\n",
      "     │    │              └─■──troop_possibly_goblins_goblin_happy ── Topic: 24\n",
      "     │    └─am_smaug_dragons_my_you\n",
      "     │         ├─am_smaug_dragons_tunnel_rid\n",
      "     │         │    ├─am_burglars_depends_burglar_baggins\n",
      "     │         │    │    ├─■──depends_grateful_rid_glad_luck ── Topic: 35\n",
      "     │         │    │    └─■──burglars_burglar_burgling_trunk_walked ── Topic: 37\n",
      "     │         │    └─smaug_dragons_tunnel_dragon_am\n",
      "     │         │         ├─■──dragons_tunnel_theres_gloated_tender ── Topic: 32\n",
      "     │         │         └─■──smaug_doze_riddling_lucky_reveal ── Topic: 21\n",
      "     │         └─north_mirkwood_miles_nuts_food\n",
      "     │              ├─■──send_plight_miles_advice_instant ── Topic: 39\n",
      "     │              └─■──mirkwood_nuts_north_carrock_bathe ── Topic: 44\n",
      "     └─bard_eagles_their_many_thorin\n",
      "          ├─bard_arkenstone_gold_king_old\n",
      "          │    ├─mountain_king_thrush_old_bird\n",
      "          │    │    ├─■──thrush_bird_carc_breed_fluttered ── Topic: 33\n",
      "          │    │    └─mountain_king_forging_lake_songs\n",
      "          │    │         ├─■──mountain_lives_south_spur_southern ── Topic: 28\n",
      "          │    │         └─■──king_songs_legend_thror_rivers ── Topic: 31\n",
      "          │    └─bard_arkenstone_gold_master_will\n",
      "          │         ├─■──names_swords_hoods_hood_service ── Topic: 36\n",
      "          │         └─bard_arkenstone_gold_master_treasure\n",
      "          │              ├─bard_arkenstone_master_claim_treasure\n",
      "          │              │    ├─■──precise_er_dragongold_give_darkgreen ── Topic: 20\n",
      "          │              │    └─bard_arkenstone_master_treasure_claim\n",
      "          │              │         ├─■──arkenstone_treasure_gold_coat_claim ── Topic: 10\n",
      "          │              │         └─■──bard_master_king_girion_messengers ── Topic: 9\n",
      "          │              └─■──elfking_fools_depart_bard_refused ── Topic: 30\n",
      "          └─eagles_goblins_their_many_great\n",
      "               ├─eagles_goblins_their_many_great\n",
      "               │    ├─gandalf_baggins_never_midsummers_knew\n",
      "               │    │    ├─■──elrond_midsummers_banner_cure_written ── Topic: 40\n",
      "               │    │    └─gandalf_baggins_never_hill_horse\n",
      "               │    │         ├─gandalf_baggins_hill_horse_mr\n",
      "               │    │         │    ├─■──baggins_mr_remarkable_her_adventures ── Topic: 8\n",
      "               │    │         │    └─■──gandalf_horse_sending_road_knew ── Topic: 5\n",
      "               │    │         └─■──aback_observed_express_farmer_glory ── Topic: 34\n",
      "               │    └─eagles_goblins_their_great_ponies\n",
      "               │         ├─eagles_goblins_great_goblin_eagle\n",
      "               │         │    ├─■──people_wise_killing_dwarves_strong ── Topic: 22\n",
      "               │         │    └─eagles_goblins_great_goblin_eagle\n",
      "               │         │         ├─dragon_smaug_thorin_arrow_every\n",
      "               │         │         │    ├─■──thorin_stairs_fuss_merrymaking_dungeon ── Topic: 7\n",
      "               │         │         │    └─■──dragon_smaug_arrow_thunderstorm_dragons ── Topic: 2\n",
      "               │         │         └─eagles_goblins_goblin_eagle_lord\n",
      "               │         │              ├─■──goblins_goblin_lad_ho_orcrist ── Topic: 1\n",
      "               │         │              └─■──eagles_eagle_lord_birds_swooped ── Topic: 13\n",
      "               │         └─ponies_torches_ha_bombur_fires\n",
      "               │              ├─■──ponies_ha_stores_frowning_jolly ── Topic: 26\n",
      "               │              └─■──torches_thirst_warnings_drip_fires ── Topic: 27\n",
      "               └─familiar_impatient_feast_agreed_woodelves\n",
      "                    ├─■──familiar_impatient_agreed_important_reward ── Topic: 42\n",
      "                    └─■──drove_treetops_overpowered_desperately_hobble ── Topic: 43\n",
      "\n"
     ]
    }
   ],
   "source": [
    "tree = hobbit_topic_model.get_topic_tree(hierarchical_topics)\n",
    "print(tree)"
   ]
  },
  {
   "cell_type": "code",
   "execution_count": 26,
   "id": "7c6b9837",
   "metadata": {},
   "outputs": [
    {
     "data": {
      "text/html": [
       "<iframe\n",
       "    scrolling=\"no\"\n",
       "    width=\"1220px\"\n",
       "    height=\"770\"\n",
       "    src=\"iframe_figures/figure_26.html\"\n",
       "    frameborder=\"0\"\n",
       "    allowfullscreen\n",
       "></iframe>\n"
      ]
     },
     "metadata": {},
     "output_type": "display_data"
    }
   ],
   "source": [
    "hobbit_topic_model.visualize_hierarchical_documents(docs, hierarchical_topics, embeddings=embeddings)"
   ]
  },
  {
   "cell_type": "code",
   "execution_count": 27,
   "id": "6a91fee7",
   "metadata": {},
   "outputs": [
    {
     "data": {
      "text/html": [
       "<iframe\n",
       "    scrolling=\"no\"\n",
       "    width=\"820px\"\n",
       "    height=\"820\"\n",
       "    src=\"iframe_figures/figure_27.html\"\n",
       "    frameborder=\"0\"\n",
       "    allowfullscreen\n",
       "></iframe>\n"
      ]
     },
     "metadata": {},
     "output_type": "display_data"
    }
   ],
   "source": [
    "hobbit_topic_model.visualize_heatmap(n_clusters=6)"
   ]
  },
  {
   "cell_type": "code",
   "execution_count": 36,
   "id": "6663e406",
   "metadata": {},
   "outputs": [
    {
     "data": {
      "text/plain": [
       "[('arkenstone', 0.4188085933035537),\n",
       " ('treasure', 0.3190411337437779),\n",
       " ('gold', 0.2695526333427747),\n",
       " ('coat', 0.265063452849647),\n",
       " ('claim', 0.2594415690078795),\n",
       " ('bard', 0.259377487894464),\n",
       " ('share', 0.24578192254755632),\n",
       " ('thieves', 0.24145241920054655),\n",
       " ('thrain', 0.23838201045156598),\n",
       " ('thorin', 0.23572151977060787)]"
      ]
     },
     "execution_count": 36,
     "metadata": {},
     "output_type": "execute_result"
    }
   ],
   "source": [
    "similar_topics, similarity = hobbit_topic_model.find_topics(\"thief\", top_n=5)\n",
    "hobbit_topic_model.get_topic(similar_topics[0])"
   ]
  },
  {
   "cell_type": "code",
   "execution_count": null,
   "id": "fc88bf4b",
   "metadata": {},
   "outputs": [],
   "source": []
  }
 ],
 "metadata": {
  "kernelspec": {
   "display_name": "Python 3 (ipykernel)",
   "language": "python",
   "name": "python3"
  },
  "language_info": {
   "codemirror_mode": {
    "name": "ipython",
    "version": 3
   },
   "file_extension": ".py",
   "mimetype": "text/x-python",
   "name": "python",
   "nbconvert_exporter": "python",
   "pygments_lexer": "ipython3",
   "version": "3.9.16"
  }
 },
 "nbformat": 4,
 "nbformat_minor": 5
}
