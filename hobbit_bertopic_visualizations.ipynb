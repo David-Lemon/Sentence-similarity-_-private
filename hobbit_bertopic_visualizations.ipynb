{
 "cells": [
  {
   "cell_type": "code",
   "execution_count": null,
   "id": "72af1d8b",
   "metadata": {},
   "outputs": [],
   "source": [
    "import pandas as pd\n",
    "import numpy as np\n",
    "pd.set_option('display.max_rows', 100)"
   ]
  },
  {
   "cell_type": "code",
   "execution_count": null,
   "id": "1185f637",
   "metadata": {},
   "outputs": [],
   "source": [
    "import plotly.express as px\n",
    "import plotly.graph_objects as go\n",
    "import matplotlib.pyplot as plt\n",
    "import plotly.io as pio\n",
    "pio.renderers.default='iframe'"
   ]
  },
  {
   "cell_type": "code",
   "execution_count": null,
   "id": "ec4df41a",
   "metadata": {},
   "outputs": [],
   "source": [
    "from bertopic import BERTopic"
   ]
  },
  {
   "cell_type": "code",
   "execution_count": null,
   "id": "e08d3035",
   "metadata": {},
   "outputs": [],
   "source": [
    "from bertopic.vectorizers import ClassTfidfTransformer"
   ]
  },
  {
   "cell_type": "code",
   "execution_count": null,
   "id": "587633e8",
   "metadata": {},
   "outputs": [],
   "source": [
    "import os"
   ]
  },
  {
   "cell_type": "code",
   "execution_count": null,
   "id": "a0386b64",
   "metadata": {},
   "outputs": [],
   "source": [
    "pwd"
   ]
  },
  {
   "cell_type": "code",
   "execution_count": null,
   "id": "a1a9b2de",
   "metadata": {},
   "outputs": [],
   "source": [
    "# use this code if you have not created a csv file from the chunking step -- uncomment the lines below by selecting them and typing command /\n",
    "# import csv\n",
    "\n",
    "# # set the path to the directory containing the txt files\n",
    "# dir_path = '/Users/tim_home/Dropbox/My Documents/Projects/Hobbit_test/Hobbit_chunked'\n",
    "\n",
    "# # create a new csv file\n",
    "# with open('hobbit_chunked.csv', mode='w', newline='') as output_file:\n",
    "#     # create a csv writer object\n",
    "#     output_writer = csv.writer(output_file, delimiter=',', quotechar='\"', quoting=csv.QUOTE_MINIMAL)\n",
    "    \n",
    "#     # write the header row\n",
    "#     output_writer.writerow(['chunk_num', 'text'])\n",
    "    \n",
    "#     # loop through the txt files in the directory\n",
    "#     for filename in os.listdir(dir_path):\n",
    "#         if filename.endswith('.txt'):\n",
    "#             # open the file and read the content\n",
    "#             with open(os.path.join(dir_path, filename), mode='r') as txt_file:\n",
    "#                 content = txt_file.read()\n",
    "            \n",
    "#             # remove the '.txt' extension from the filename\n",
    "#             filename = filename[:-4]\n",
    "            \n",
    "#             # write the filename and content to the csv file\n",
    "#             output_writer.writerow([filename, content])\n"
   ]
  },
  {
   "cell_type": "code",
   "execution_count": null,
   "id": "7048299a",
   "metadata": {},
   "outputs": [],
   "source": [
    "import hdbscan\n",
    "import plotly.express as px\n",
    "import plotly.graph_objects as go\n",
    "import matplotlib.pyplot as plt\n",
    "# import networkx as nx\n",
    "# from networkx.algorithms import bipartite\n",
    "# from networkx.readwrite import graphml\n"
   ]
  },
  {
   "cell_type": "code",
   "execution_count": null,
   "id": "303bd65f",
   "metadata": {},
   "outputs": [],
   "source": [
    "hobbit_df = pd.read_csv('hobbit_chunked.csv')\n",
    "hobbit_df.head()"
   ]
  },
  {
   "cell_type": "code",
   "execution_count": null,
   "id": "df06f30c",
   "metadata": {},
   "outputs": [],
   "source": [
    "# def topic_modeling(text, top_n_words=None, language='English'):\n",
    "#    if top_n_words is None: \n",
    "#        topic_model = BERTopic(calculate_probabilities=True)\n",
    "#    else: \n",
    "#        topic_model = BERTopic(calculate_probabilities=True, top_n_words=top_n_words)\n",
    "#    if language != 'English':\n",
    "#        topic_model = BERTopic(language='multilingual', calculate_probabilities=True)\n",
    "#    topics, probabilities = topic_model.fit_transform(list(text))\n",
    "#    topic_info = topic_model.get_topic_info()\n",
    "#    text_topics = topic_model.get_topics()\n",
    "#    return topics, probabilities, topic_model, topic_info, text_topics"
   ]
  },
  {
   "cell_type": "code",
   "execution_count": null,
   "id": "2b56d7d4",
   "metadata": {},
   "outputs": [],
   "source": [
    "docs = hobbit_df['text']\n",
    "docs.head()"
   ]
  },
  {
   "cell_type": "code",
   "execution_count": null,
   "id": "8123bbb7",
   "metadata": {},
   "outputs": [],
   "source": [
    "ctfidf_model = ClassTfidfTransformer(reduce_frequent_words=True)"
   ]
  },
  {
   "cell_type": "code",
   "execution_count": null,
   "id": "65d8c867",
   "metadata": {
    "scrolled": true
   },
   "outputs": [],
   "source": [
    "from umap import UMAP\n",
    "from sentence_transformers import SentenceTransformer\n",
    "sentence_model = SentenceTransformer(\"all-MiniLM-L6-v2\")\n",
    "embeddings = sentence_model.encode(docs, show_progress_bar=True)\n",
    "hobbit_topic_model = BERTopic(language='english', calculate_probabilities=True, embedding_model=\"all-MiniLM-L6-v2\", top_n_words=10, min_topic_size=5, ctfidf_model=ctfidf_model, verbose=True)\n",
    "topics, probs = hobbit_topic_model.fit_transform(docs, embeddings)"
   ]
  },
  {
   "cell_type": "code",
   "execution_count": null,
   "id": "3d086cae",
   "metadata": {},
   "outputs": [],
   "source": [
    "hobbit_topic_model.get_topic_info()"
   ]
  },
  {
   "cell_type": "code",
   "execution_count": null,
   "id": "6e81dfe1",
   "metadata": {},
   "outputs": [],
   "source": [
    "hobbit_topic_model.save('./hobbit_model2')"
   ]
  },
  {
   "cell_type": "code",
   "execution_count": null,
   "id": "4e6f6fda",
   "metadata": {
    "scrolled": true
   },
   "outputs": [],
   "source": [
    "hobbit_topic_model.get_document_info(docs)"
   ]
  },
  {
   "cell_type": "code",
   "execution_count": null,
   "id": "b70febf2",
   "metadata": {},
   "outputs": [],
   "source": [
    "hobbit_doc_info_df = pd.DataFrame(hobbit_topic_model.get_document_info(docs))"
   ]
  },
  {
   "cell_type": "code",
   "execution_count": null,
   "id": "8260b015",
   "metadata": {},
   "outputs": [],
   "source": [
    "hobbit_doc_info_df.to_csv('hobbit_docinfo.csv', index=True)"
   ]
  },
  {
   "cell_type": "code",
   "execution_count": null,
   "id": "7a042723",
   "metadata": {},
   "outputs": [],
   "source": [
    "hobbit_topic_model.get_topic(22)"
   ]
  },
  {
   "cell_type": "code",
   "execution_count": null,
   "id": "0cdeea88",
   "metadata": {},
   "outputs": [],
   "source": [
    "hobbit_topic_model.visualize_topics()"
   ]
  },
  {
   "cell_type": "code",
   "execution_count": null,
   "id": "431b7fc8",
   "metadata": {},
   "outputs": [],
   "source": [
    "reduced_embeddings = UMAP(n_neighbors=10, n_components=2, min_dist=0.0, metric='cosine').fit_transform(embeddings)\n",
    "fig = hobbit_topic_model.visualize_documents(docs, reduced_embeddings=reduced_embeddings)\n",
    "fig.show()"
   ]
  },
  {
   "cell_type": "code",
   "execution_count": null,
   "id": "a524a3ff",
   "metadata": {},
   "outputs": [],
   "source": [
    "hobbit_topic_model.visualize_hierarchy()"
   ]
  },
  {
   "cell_type": "code",
   "execution_count": null,
   "id": "ad3e9e2a",
   "metadata": {},
   "outputs": [],
   "source": [
    "hierarchical_topics = hobbit_topic_model.hierarchical_topics(docs)"
   ]
  },
  {
   "cell_type": "code",
   "execution_count": null,
   "id": "74e6c17d",
   "metadata": {},
   "outputs": [],
   "source": [
    "hobbit_topic_model.visualize_hierarchy(hierarchical_topics=hierarchical_topics)"
   ]
  },
  {
   "cell_type": "code",
   "execution_count": null,
   "id": "2ba19094",
   "metadata": {},
   "outputs": [],
   "source": [
    "tree = hobbit_topic_model.get_topic_tree(hierarchical_topics)\n",
    "print(tree)"
   ]
  },
  {
   "cell_type": "code",
   "execution_count": null,
   "id": "7c6b9837",
   "metadata": {},
   "outputs": [],
   "source": [
    "hobbit_topic_model.visualize_hierarchical_documents(docs, hierarchical_topics, embeddings=embeddings)"
   ]
  },
  {
   "cell_type": "code",
   "execution_count": null,
   "id": "6a91fee7",
   "metadata": {},
   "outputs": [],
   "source": [
    "hobbit_topic_model.visualize_heatmap(n_clusters=6)"
   ]
  },
  {
   "cell_type": "code",
   "execution_count": null,
   "id": "6663e406",
   "metadata": {},
   "outputs": [],
   "source": [
    "similar_topics, similarity = hobbit_topic_model.find_topics(\"thief\", top_n=5)\n",
    "hobbit_topic_model.get_topic(similar_topics[0])"
   ]
  },
  {
   "cell_type": "code",
   "execution_count": null,
   "id": "fc88bf4b",
   "metadata": {},
   "outputs": [],
   "source": []
  }
 ],
 "metadata": {
  "kernelspec": {
   "display_name": "Python 3 (ipykernel)",
   "language": "python",
   "name": "python3"
  },
  "language_info": {
   "codemirror_mode": {
    "name": "ipython",
    "version": 3
   },
   "file_extension": ".py",
   "mimetype": "text/x-python",
   "name": "python",
   "nbconvert_exporter": "python",
   "pygments_lexer": "ipython3",
   "version": "3.9.16"
  }
 },
 "nbformat": 4,
 "nbformat_minor": 5
}
