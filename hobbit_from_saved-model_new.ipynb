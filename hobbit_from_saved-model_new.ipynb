{
 "cells": [
  {
   "cell_type": "markdown",
   "id": "c1964898",
   "metadata": {},
   "source": [
    "Import the operating system, and check that you are in the correct directory"
   ]
  },
  {
   "cell_type": "code",
   "execution_count": null,
   "id": "67c636b3",
   "metadata": {},
   "outputs": [],
   "source": [
    "import os"
   ]
  },
  {
   "cell_type": "code",
   "execution_count": null,
   "id": "806514bb",
   "metadata": {},
   "outputs": [],
   "source": [
    "pwd"
   ]
  },
  {
   "cell_type": "markdown",
   "id": "3c72fc4b",
   "metadata": {},
   "source": [
    "import BERTopic and hdbscan"
   ]
  },
  {
   "cell_type": "code",
   "execution_count": null,
   "id": "20e04ebf",
   "metadata": {},
   "outputs": [],
   "source": [
    "from bertopic import BERTopic"
   ]
  },
  {
   "cell_type": "code",
   "execution_count": null,
   "id": "e108bba2",
   "metadata": {},
   "outputs": [],
   "source": [
    "import hdbscan"
   ]
  },
  {
   "cell_type": "markdown",
   "id": "9b2efd12",
   "metadata": {},
   "source": [
    "Import pandas for data frames and numpy for numerical operations"
   ]
  },
  {
   "cell_type": "code",
   "execution_count": null,
   "id": "04bc1d2d",
   "metadata": {},
   "outputs": [],
   "source": [
    "# for data frames and numerical manipulation\n",
    "import pandas as pd\n",
    "import numpy as np\n",
    "pd.set_option('display.max_rows', 100)\n"
   ]
  },
  {
   "cell_type": "markdown",
   "id": "d500df71",
   "metadata": {},
   "source": [
    "Import various visualization libraries"
   ]
  },
  {
   "cell_type": "code",
   "execution_count": null,
   "id": "2049fd5b",
   "metadata": {},
   "outputs": [],
   "source": [
    "# for visualization\n",
    "import plotly.express as px\n",
    "import plotly.graph_objects as go\n",
    "import matplotlib.pyplot as plt\n",
    "import plotly.io as pio\n",
    "pio.renderers.default='iframe'"
   ]
  },
  {
   "cell_type": "markdown",
   "id": "5d58f8c2",
   "metadata": {},
   "source": [
    "Import Networkx"
   ]
  },
  {
   "cell_type": "code",
   "execution_count": null,
   "id": "94ab3900",
   "metadata": {},
   "outputs": [],
   "source": [
    "import networkx as nx\n",
    "from networkx.algorithms import bipartite"
   ]
  },
  {
   "cell_type": "markdown",
   "id": "26a82269",
   "metadata": {},
   "source": [
    "Import BERTopic"
   ]
  },
  {
   "cell_type": "code",
   "execution_count": null,
   "id": "71a47630",
   "metadata": {},
   "outputs": [],
   "source": [
    "# using BERTopic\n",
    "from bertopic import BERTopic"
   ]
  },
  {
   "cell_type": "markdown",
   "id": "629725bc",
   "metadata": {},
   "source": [
    "Load the saved model"
   ]
  },
  {
   "cell_type": "code",
   "execution_count": null,
   "id": "5e3fee1e",
   "metadata": {},
   "outputs": [],
   "source": [
    "# load the saved model\n",
    "hobbit_topic_model = BERTopic.load('hobbit_model')\n",
    "\n",
    "# check the model is properly loaded\n",
    "hobbit_topic_model.get_topic_info()"
   ]
  },
  {
   "cell_type": "code",
   "execution_count": null,
   "id": "a2410afc",
   "metadata": {},
   "outputs": [],
   "source": [
    "hobbit_df = pd.read_csv('./hobbit_docinfo.csv', index_col = 0)"
   ]
  },
  {
   "cell_type": "code",
   "execution_count": null,
   "id": "27ddf452",
   "metadata": {},
   "outputs": [],
   "source": []
  }
 ],
 "metadata": {
  "kernelspec": {
   "display_name": "Python 3 (ipykernel)",
   "language": "python",
   "name": "python3"
  },
  "language_info": {
   "codemirror_mode": {
    "name": "ipython",
    "version": 3
   },
   "file_extension": ".py",
   "mimetype": "text/x-python",
   "name": "python",
   "nbconvert_exporter": "python",
   "pygments_lexer": "ipython3",
   "version": "3.9.16"
  }
 },
 "nbformat": 4,
 "nbformat_minor": 5
}
